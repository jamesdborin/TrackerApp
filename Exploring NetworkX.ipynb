{
 "cells": [
  {
   "cell_type": "code",
   "execution_count": 1,
   "metadata": {},
   "outputs": [],
   "source": [
    "import matplotlib.pyplot as plt\n",
    "import pandas as pd\n",
    "import networkx as nx\n",
    "import json\n",
    "import pygraphviz\n",
    "import numpy as np\n"
   ]
  },
  {
   "cell_type": "code",
   "execution_count": 137,
   "metadata": {},
   "outputs": [],
   "source": [
    "class ExerciseNetwork():\n",
    "    def __init__(self, initial_graph = None, json_graph = None):\n",
    "        is_graph = isinstance(initial_graph, nx.DiGraph)\n",
    "        is_dict = isinstance(json_graph, dict)\n",
    "        if is_graph:\n",
    "            self.graph = initial_graph\n",
    "        elif is_dict:\n",
    "            self.graph = node_link_graph(json_graph)\n",
    "        else:\n",
    "            self.graph = nx.DiGraph()\n",
    "\n",
    "        \n",
    "    @property\n",
    "    def all_labels(self):\n",
    "        return [node[1]['name'] for node in self.graph.nodes(data=True)]\n",
    "    \n",
    "    \n",
    "    @staticmethod\n",
    "    def get_common_elements(list1, list2):\n",
    "        set1, set2 = set(list1), set(list2)\n",
    "        common_elements = set1 & set2\n",
    "        return common_elements\n",
    "\n",
    "    \n",
    "    @staticmethod\n",
    "    def get_unique_elements(list1, list2):\n",
    "        set1, set2 = set(list1), set(list2)\n",
    "        unique_elements = set1 ^ set2\n",
    "        return unique_elements\n",
    "    \n",
    "    \n",
    "    def add_branch(self, new_labels, start_node_name):\n",
    "        # check if any of the new labels are currently in the graph. No new node is added and a new edge is added.\n",
    "        common_labels = self.get_common_elements(self.all_labels, new_labels)\n",
    "        # Isolate new labels that are unique\n",
    "        unique_labels = self.get_unique_elements(common_labels, new_labels)\n",
    "        \n",
    "        num = max(self.graph.nodes) + 1 # start labelling nodes from this number\n",
    "        num_new_nodes = len(new_labels) - len(common_labels) # exclude new nodes from being added\n",
    "        \n",
    "        new_nodes = range(num, num+num_new_nodes)\n",
    "        old_nodes = get_nodes_of_labels(self.graph, list(common_labels)) # find the node # of the nodes already in the graph \n",
    "        \n",
    "        labels = {node_num: {'name':label} for node_num, label in zip(list(new_nodes), unique_labels)}\n",
    "        # add new nodes and give them attributes from new_labels\n",
    "        self.graph.add_nodes_from(new_nodes)\n",
    "        nx.set_node_attributes(self.graph, labels)\n",
    "\n",
    "        # find node to branch edges from\n",
    "        node = [x for x,y in self.graph.nodes(data = True) if y['name'] == start_node_name][0]\n",
    "        \n",
    "        edges = [(node, new_node) for new_node in new_nodes] + [(node, old_node) for old_node in old_nodes]\n",
    "        # add edges to the new nodes, and the new edges to the old nodes\n",
    "        self.graph.add_edges_from(edges)\n",
    "    \n",
    "    \n",
    "    def add_branches(self, new_labels, start_node_names):\n",
    "        for label, start in zip(new_labels, start_node_names):        \n",
    "            add_branch(self.graph, label, start)\n",
    "       \n",
    "    \n",
    "    def add_branches_from_dict(self, exercise_dict):\n",
    "        \"\"\"\n",
    "        Add branches from a dictionary with the structure:\n",
    "        {start_node1:[end1, end2,...], start_node2:[end1, end2], ...}\n",
    "        If an endpoint is specified twice then an edge is added to that node from all start nodes. \n",
    "        \"\"\"\n",
    "        for node in exercise_dict.keys():\n",
    "            self.add_branch(exercise_dict[node], node)\n",
    "    \n",
    "    \n",
    "    def get_labels_of_nodes(self, nodes):\n",
    "        return [y['name'] for x,y in self.graph.nodes(data = True) if x in nodes]\n",
    "    \n",
    "    \n",
    "    def get_nodes_of_labels(self, labels):\n",
    "        return [x for x,y in self.graph.nodes(data = True) if y['name'] in labels]\n",
    "     \n",
    "    \n",
    "    def get_children_of(self, name):\n",
    "        start_node = get_nodes_of_labels(self.graph, name)[0]\n",
    "        child_nodes = list(self.graph.successors(start_node))\n",
    "        child_names = get_labels_of_nodes(self.graph, child_nodes)\n",
    "        return child_nodes, child_names\n",
    "    \n",
    "    \n",
    "    def get_parents_of(self, name):\n",
    "        start_node = get_nodes_of_labels(self.graph, name)[0]\n",
    "        parent_nodes = list(self.graph.predecessors(start_node))\n",
    "        parent_names = get_labels_of_nodes(self.graph, parent_nodes)\n",
    "        return parent_nodes, parent_names\n",
    "\n",
    "    \n",
    "    def add_edge_from_name(self, start_label, end_label):\n",
    "        nodes = get_nodes_of_labels(self.graph, [start_label, end_label])\n",
    "        edges = [(nodes[0], nodes[1])]\n",
    "        self.graph.add_edges_from(edges)\n",
    "    \n",
    "    \n",
    "    def add_edges_from_dict(self, edges_dict):\n",
    "        \"\"\"\n",
    "        Add edges from a dictionary of nodes {from1:[dest1, dest2,...], from2:[dest1,dest2,...]}\n",
    "        \"\"\"\n",
    "        for start_label in edges_dict.keys():\n",
    "            for end_label in edges_dict[start_label]:\n",
    "                add_edge_from_name(self.graph, start_label, end_label)\n",
    "\n",
    "    \n",
    "    def draw_graph(self, size = (20,20)):\n",
    "        pos = graphviz_layout(self.graph, prog='twopi', args = '')\n",
    "        labels = {x:y['name'] for x,y in self.graph.nodes(data = True)}\n",
    "        plt.figure(figsize = size)\n",
    "        nx.draw(self.graph, pos, node_size=0, alpha=0.4, edge_color=\"r\", font_size=16, with_labels=True, labels = labels)\n",
    "    \n",
    "    \n",
    "    def graph_to_json(self):\n",
    "        return node_link_data(self.graph)\n",
    "    \n",
    "    \n",
    "    def graph_to_file(self, filename):\n",
    "        with open(filename, 'w') as outfile:\n",
    "            json.dump(self.graph_to_json(), outfile)\n",
    "    \n",
    "    \n",
    "    def file_to_graph(self, filename):\n",
    "        with open(filename) as json_file:\n",
    "            data = json.load(json_file)\n",
    "            self.graph = node_link_graph(data)\n",
    "    \n",
    "    \n",
    "ex1 = ExerciseNetwork(json_graph=x)\n",
    "\n",
    "# individual exercises\n",
    "\n",
    "exercises = {\n",
    "    \"Flyes\": [\"Floor Flyes\", \" Ground Pounds\"],\n",
    "    \"Push Ups\": [\"Twisting Push Up\", \"Decline Push Up\", \"Close Grip Push Up\"],\n",
    "    \"Dips\": [\"Weighted Dips\", \"Plyo Dips\", \"Retro Dips\"],\n",
    "    \"Bench\": [\"Flat Bench Press\", \"Close Grip Bench Press\", \"Incline Bench Press\"],\n",
    "    \"Extensions\": [\"Skull Crusher\", \"Push Aways\", \"Bodyweight Extensions\"],\n",
    "    \"Shoulder Raise\": [\"Lateral Raise\", \"Front Raise\", \"Leaning Raise\"],\n",
    "    \"Press\": [\"Standing Press\", \"Landmine Press\", \"Incline Bench Press\"],\n",
    "    \"Pulls\": [\"Face Pulls\", \"Landmine Upper Row\", \"High Boy Row\"],\n",
    "    \"Bicep Curls\": [\"Bicep Curl\", \"Incline Curl\", \"Waiter Curl\"],\n",
    "    \"Rows\": [\"Yates Row\", \"Bench Row\", \"Dead Row\"],\n",
    "    \"Pull Ups\": [\"Chin Up\", \"Wide Pull Up\"],\n",
    "    \"Pull Downs\": [\"Straight Arm Pull Down\", \"Lat Pull Downs\"],\n",
    "    \"Calf Raise\": [\"Forward Raise\", \"Straight Leg Raise\", \"Bent Leg Raise\"],\n",
    "    \"Unilateral\": [\"Bulgarian Split Squat\", \"Pistol Squat\", \"Step Ups\"],\n",
    "    \"Squats\": [\"Back Squats\", \"Front Squats\", \"Jumps\"],\n",
    "    \"Deadlift\": [\"Hex Bar Deadlift\", \"Straight Bar Deadlift\", \"Romanian Dead Lift\"],\n",
    "    \"Bridges\": [\"Glute Bridge\"],\n",
    "    \"Hamstring Curls\": [\"Medicine Ball Curls\"]\n",
    "}\n",
    "\n",
    "ex1.add_branches_from_dict(exercises)\n"
   ]
  },
  {
   "cell_type": "code",
   "execution_count": 141,
   "metadata": {},
   "outputs": [],
   "source": []
  },
  {
   "cell_type": "code",
   "execution_count": 80,
   "metadata": {},
   "outputs": [],
   "source": [
    "sections = ['Upper Body', 'Lower Body']\n",
    "upper = ['Upper Push', 'Upper Pull']\n",
    "lower = ['Lower Push', 'Lower Pull']\n",
    "m1 = ['Shoulders','Triceps', 'Chest']\n",
    "m2 = ['Upper Back', 'Biceps', 'Back']\n",
    "m3 = ['Calves', 'Quads']\n",
    "m4 = ['Glutes', 'Hamstrings']\n",
    "\n"
   ]
  },
  {
   "cell_type": "code",
   "execution_count": 81,
   "metadata": {},
   "outputs": [
    {
     "data": {
      "text/plain": [
       "([3, 4], ['Upper Push', 'Upper Pull'])"
      ]
     },
     "execution_count": 81,
     "metadata": {},
     "output_type": "execute_result"
    }
   ],
   "source": [
    "def add_branch(graph, new_labels, start_node_name = None):\n",
    "    num = max(graph.nodes) + 1 # start labelling nodes from this number\n",
    "    num_new_nodes = len(new_labels)\n",
    "    new_nodes = range(num, num+num_new_nodes)\n",
    "    labels = {node_num: {'name':label} for node_num, label in zip(list(new_nodes), new_labels)}\n",
    "    \n",
    "    # add new nodes and give them attributes from new_labels\n",
    "    graph.add_nodes_from(new_nodes)\n",
    "    nx.set_node_attributes(graph, labels)\n",
    "    \n",
    "    # find node to branch edges from\n",
    "    node = [x for x,y in graph.nodes(data = True) if y['name'] == start_node_name][0]\n",
    "    edges = [(node, new_node) for new_node in new_nodes]\n",
    "    graph.add_edges_from(edges)\n",
    "    \n",
    "    return graph\n",
    "\n",
    "def draw_graph(graph, pos, size = (8,5)):\n",
    "    labels = {x:y['name'] for x,y in graph.nodes(data = True)}\n",
    "    plt.figure(figsize = size)\n",
    "    nx.draw(graph, pos, node_size=0, alpha=0.4, edge_color=\"r\", font_size=16, with_labels=True, labels = labels)\n",
    "\n",
    "def add_branches(graph, new_labels, start_node_names):\n",
    "    for label, start in zip(new_labels, start_node_names):        \n",
    "        graph = add_branch(graph, label, start)\n",
    "    return graph\n",
    "\n",
    "def get_labels_of_nodes(graph, nodes):\n",
    "    return [y['name'] for x,y in graph.nodes(data = True) if x in nodes]\n",
    "\n",
    "def get_nodes_of_labels(graph, labels):\n",
    "    return [x for x,y in graph.nodes(data = True) if y['name'] in labels]\n",
    "\n",
    "\n",
    "def get_children_of(graph, name):\n",
    "    start_node = get_nodes_of_labels(graph, name)[0]\n",
    "    child_nodes = list(graph.successors(start_node))\n",
    "    child_names = get_labels_of_nodes(graph, child_nodes)\n",
    "    return child_nodes, child_names\n",
    "\n",
    "def add_edge_from_name(graph, start_label, end_label):\n",
    "    nodes = get_nodes_of_labels(graph, [start_label, end_label])\n",
    "    edges = [(nodes[0], nodes[1])]\n",
    "    graph.add_edges_from(edges)\n",
    "    return graph\n",
    "\n",
    "def add_edges_from_dict(graph, edges_dict):\n",
    "    \"\"\"\n",
    "    Add edges from a dictionary of nodes {from1:[dest1, dest2,...], from2:[dest1,dest2,...]}\n",
    "    \"\"\"\n",
    "    for start_label in edges_dict.keys():\n",
    "        for end_label in edges_dict[start_label]:\n",
    "            add_edge_from_name(graph, start_label, end_label)\n",
    "\n",
    "    return graph\n",
    "\n",
    "G = nx.DiGraph()\n",
    "\n",
    "labels = {0:'Exercises', 1:'Lower Body', 2:'Upper Body'}\n",
    "G.add_node(0, name = 'Exercises')\n",
    "G.add_node(2, name = 'Upper Body')\n",
    "G.add_node(1, name = 'Lower Body')\n",
    "G.add_edges_from([(0,1),(0,2)])\n",
    "\n",
    "all_labels = [upper, lower,m1,m2,m3,m4]\n",
    "G_new = add_branches(G, all_labels, start_node_names=['Upper Body', 'Lower Body', 'Upper Push', 'Upper Pull', 'Lower Push', 'Lower Pull'])\n",
    "\n",
    "get_children_of(G_new, 'Upper Body')"
   ]
  },
  {
   "cell_type": "code",
   "execution_count": 82,
   "metadata": {},
   "outputs": [],
   "source": [
    "pex1 = ['Contraction', 'Extensions'] # Triceps\n",
    "pex2 = ['Press', 'Shoulder Raise'] # Shoulders\n",
    "pex3 = ['Bench', 'Dips', 'Push Ups', 'Flyes'] # Chest\n",
    "pex4 = ['Bicep Curls'] # biceps\n",
    "pex5 = ['Pulls'] # Upper Back\n",
    "pex6 = ['Rows', 'Pull Ups', 'Pull Downs'] # Back\n",
    "pex7 = ['Calf Raise'] # Calves\n",
    "pex8 = ['Unilateral', 'Squats'] # Quads\n",
    "pex9 = ['Deadlift', 'Bridges'] # Glutes \n",
    "pex10 = ['Hamstring Curls'] # Hamstring\n",
    "\n",
    "exercise_labels = [\"Triceps\", \n",
    "                   \"Shoulders\",\n",
    "                   \"Chest\",\n",
    "                   \"Biceps\",\n",
    "                   \"Upper Back\",\n",
    "                   \"Back\",\n",
    "                   \"Calves\",\n",
    "                   \"Quads\",\n",
    "                   \"Glutes\",\n",
    "                   \"Hamstrings\"]\n",
    "\n",
    "exercise_classes = [eval(f\"pex{i}\") for i in range(1,11)]\n",
    "\n",
    "G_2gen = add_branches(G_new, exercise_classes, start_node_names=exercise_labels)\n",
    "additional_paths = {\n",
    "    \"Triceps\": [\"Bench\", \"Dips\", \"Push Ups\"],\n",
    "    \"Biceps\": [\"Rows\", \"Pull Ups\"],\n",
    "    \"Glutes\":[\"Unilateral\", \"Squats\"],\n",
    "    \"Quads\":[\"Deadlift\"],\n",
    "    \"Hamstrings\":[\"Deadlift\", \"Bridges\"]\n",
    "}\n",
    "\n",
    "pos = graphviz_layout(G_2gen, prog='twopi', args = '')\n",
    "G_all_edges = add_edges_from_dict(G_2gen, additional_paths)"
   ]
  },
  {
   "cell_type": "code",
   "execution_count": 119,
   "metadata": {},
   "outputs": [
    {
     "data": {
      "text/plain": [
       "['Exercises',\n",
       " 'Upper Body',\n",
       " 'Lower Body',\n",
       " 'Upper Push',\n",
       " 'Upper Pull',\n",
       " 'Lower Push',\n",
       " 'Lower Pull',\n",
       " 'Shoulders',\n",
       " 'Triceps',\n",
       " 'Chest',\n",
       " 'Upper Back',\n",
       " 'Biceps',\n",
       " 'Back',\n",
       " 'Calves',\n",
       " 'Quads',\n",
       " 'Glutes',\n",
       " 'Hamstrings',\n",
       " 'Contraction',\n",
       " 'Extensions',\n",
       " 'Press',\n",
       " 'Shoulder Raise',\n",
       " 'Bench',\n",
       " 'Dips',\n",
       " 'Push Ups',\n",
       " 'Flyes',\n",
       " 'Bicep Curls',\n",
       " 'Pulls',\n",
       " 'Rows',\n",
       " 'Pull Ups',\n",
       " 'Pull Downs',\n",
       " 'Calf Raise',\n",
       " 'Unilateral',\n",
       " 'Squats',\n",
       " 'Deadlift',\n",
       " 'Bridges',\n",
       " 'Hamstring Curls']"
      ]
     },
     "execution_count": 119,
     "metadata": {},
     "output_type": "execute_result"
    }
   ],
   "source": []
  },
  {
   "cell_type": "code",
   "execution_count": 118,
   "metadata": {},
   "outputs": [
    {
     "name": "stdout",
     "output_type": "stream",
     "text": [
      "(0, {'name': 'Exercises'})\n",
      "(2, {'name': 'Upper Body'})\n",
      "(1, {'name': 'Lower Body'})\n",
      "(3, {'name': 'Upper Push'})\n",
      "(4, {'name': 'Upper Pull'})\n",
      "(5, {'name': 'Lower Push'})\n",
      "(6, {'name': 'Lower Pull'})\n",
      "(7, {'name': 'Shoulders'})\n",
      "(8, {'name': 'Triceps'})\n",
      "(9, {'name': 'Chest'})\n",
      "(10, {'name': 'Upper Back'})\n",
      "(11, {'name': 'Biceps'})\n",
      "(12, {'name': 'Back'})\n",
      "(13, {'name': 'Calves'})\n",
      "(14, {'name': 'Quads'})\n",
      "(15, {'name': 'Glutes'})\n",
      "(16, {'name': 'Hamstrings'})\n",
      "(17, {'name': 'Contraction'})\n",
      "(18, {'name': 'Extensions'})\n",
      "(19, {'name': 'Press'})\n",
      "(20, {'name': 'Shoulder Raise'})\n",
      "(21, {'name': 'Bench'})\n",
      "(22, {'name': 'Dips'})\n",
      "(23, {'name': 'Push Ups'})\n",
      "(24, {'name': 'Flyes'})\n",
      "(25, {'name': 'Bicep Curls'})\n",
      "(26, {'name': 'Pulls'})\n",
      "(27, {'name': 'Rows'})\n",
      "(28, {'name': 'Pull Ups'})\n",
      "(29, {'name': 'Pull Downs'})\n",
      "(30, {'name': 'Calf Raise'})\n",
      "(31, {'name': 'Unilateral'})\n",
      "(32, {'name': 'Squats'})\n",
      "(33, {'name': 'Deadlift'})\n",
      "(34, {'name': 'Bridges'})\n",
      "(35, {'name': 'Hamstring Curls'})\n"
     ]
    }
   ],
   "source": [
    "for node in G_all_edges.nodes(data = True):\n",
    "    print(node)"
   ]
  },
  {
   "cell_type": "code",
   "execution_count": 123,
   "metadata": {},
   "outputs": [
    {
     "data": {
      "text/plain": [
       "True"
      ]
     },
     "execution_count": 123,
     "metadata": {},
     "output_type": "execute_result"
    }
   ],
   "source": [
    "bool(0)"
   ]
  },
  {
   "cell_type": "code",
   "execution_count": 87,
   "metadata": {},
   "outputs": [
    {
     "data": {
      "text/plain": [
       "<networkx.classes.digraph.DiGraph at 0x7f99aba99750>"
      ]
     },
     "execution_count": 87,
     "metadata": {},
     "output_type": "execute_result"
    }
   ],
   "source": [
    "loaded = node_link_graph(x)\n",
    "loaded"
   ]
  },
  {
   "cell_type": "code",
   "execution_count": 125,
   "metadata": {},
   "outputs": [
    {
     "data": {
      "text/plain": [
       "{'down', 'right', 'up'}"
      ]
     },
     "execution_count": 125,
     "metadata": {},
     "output_type": "execute_result"
    }
   ],
   "source": [
    "a = {\"up\", \"down\", \"left\"}\n",
    "b = {\"left\", \"right\"}\n",
    "\n",
    "a ^ b"
   ]
  },
  {
   "cell_type": "code",
   "execution_count": 126,
   "metadata": {},
   "outputs": [
    {
     "data": {
      "text/plain": [
       "{'down', 'left', 'up'}"
      ]
     },
     "execution_count": 126,
     "metadata": {},
     "output_type": "execute_result"
    }
   ],
   "source": [
    "set(a)"
   ]
  },
  {
   "cell_type": "code",
   "execution_count": null,
   "metadata": {},
   "outputs": [],
   "source": []
  }
 ],
 "metadata": {
  "kernelspec": {
   "display_name": "Python 3",
   "language": "python",
   "name": "python3"
  },
  "language_info": {
   "codemirror_mode": {
    "name": "ipython",
    "version": 3
   },
   "file_extension": ".py",
   "mimetype": "text/x-python",
   "name": "python",
   "nbconvert_exporter": "python",
   "pygments_lexer": "ipython3",
   "version": "3.7.4"
  }
 },
 "nbformat": 4,
 "nbformat_minor": 2
}
